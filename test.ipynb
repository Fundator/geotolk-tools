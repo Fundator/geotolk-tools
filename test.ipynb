{
 "cells": [
  {
   "cell_type": "code",
   "execution_count": 108,
   "metadata": {
    "tags": []
   },
   "outputs": [
    {
     "output_type": "stream",
     "name": "stdout",
     "text": "The autoreload extension is already loaded. To reload it, use:\n  %reload_ext autoreload\n[autoreload of geotolkparser.Geotolkparser failed: Traceback (most recent call last):\n  File \"C:\\Users\\einarb\\AppData\\Local\\Packages\\PythonSoftwareFoundation.Python.3.8_qbz5n2kfra8p0\\LocalCache\\local-packages\\Python38\\site-packages\\IPython\\extensions\\autoreload.py\", line 245, in check\n    superreload(m, reload, self.old_objects)\n  File \"C:\\Users\\einarb\\AppData\\Local\\Packages\\PythonSoftwareFoundation.Python.3.8_qbz5n2kfra8p0\\LocalCache\\local-packages\\Python38\\site-packages\\IPython\\extensions\\autoreload.py\", line 394, in superreload\n    module = reload(module)\n  File \"C:\\Program Files\\WindowsApps\\PythonSoftwareFoundation.Python.3.8_3.8.1520.0_x64__qbz5n2kfra8p0\\lib\\imp.py\", line 314, in reload\n    return importlib.reload(module)\n  File \"C:\\Program Files\\WindowsApps\\PythonSoftwareFoundation.Python.3.8_3.8.1520.0_x64__qbz5n2kfra8p0\\lib\\importlib\\__init__.py\", line 168, in reload\n    raise ModuleNotFoundError(f\"spec not found for the module {name!r}\", name=name)\nModuleNotFoundError: spec not found for the module 'geotolkparser.Geotolkparser'\n]\n"
    }
   ],
   "source": [
    "%load_ext autoreload\n",
    "%autoreload 2\n",
    "import geotolkparser"
   ]
  },
  {
   "cell_type": "code",
   "execution_count": 22,
   "metadata": {},
   "outputs": [],
   "source": [
    "path = r\"C:\\Users\\einarb\\Norconsult AS\\AI og ML i Norconsult - Documents\\20 Casemapper\\05 Prediksjon av geotekniske grunnforhold\\20 - Data\\NADAG\\Gamle 1525 Ulvenvn (62297)\\AUTOGRAF.DBF\""
   ]
  },
  {
   "cell_type": "markdown",
   "metadata": {},
   "source": [
    "# Test process_multiple by lines"
   ]
  },
  {
   "cell_type": "code",
   "execution_count": 74,
   "metadata": {
    "tags": []
   },
   "outputs": [
    {
     "output_type": "stream",
     "name": "stderr",
     "text": "Could not process file 601.SND: Data contains 1 data points which is less than the minimum amount of data points (10).\nCould not process file 608.SND: Data contains 2 data points which is less than the minimum amount of data points (10).\n"
    }
   ],
   "source": [
    "\n",
    "path = r\"C:\\Users\\einarb\\Norconsult AS\\AI og ML i Norconsult - Documents\\20 Casemapper\\05 Prediksjon av geotekniske grunnforhold\\20 - Data\\NADAG\\Gamle 1525 Ulvenvn (62297)\\AUTOGRAF.DBF\"\n",
    "lol = Geotolkparser.convert_multiple_to_lines(path)\n",
    "file_dict = Geotolkparser.process_multiple_by_lines(lol, \"a\", \"b\")\n",
    "df = Geotolkparser.dict_to_dataframes(file_dict)"
   ]
  },
  {
   "cell_type": "markdown",
   "metadata": {},
   "source": [
    "# Test process multiple by path"
   ]
  },
  {
   "cell_type": "code",
   "execution_count": 94,
   "metadata": {
    "tags": []
   },
   "outputs": [
    {
     "output_type": "stream",
     "name": "stderr",
     "text": "Could not process file 601.SND: Data contains 1 data points which is less than the minimum amount of data points (10).\nCould not process file 608.SND: Data contains 2 data points which is less than the minimum amount of data points (10).\n"
    }
   ],
   "source": [
    "file_dict = Geotolkparser.process_multiple_by_path(path, \"a\", \"b\")\n",
    "df = Geotolkparser.dict_to_dataframes(file_dict)"
   ]
  },
  {
   "cell_type": "markdown",
   "metadata": {},
   "source": [
    "# Test Process file by lines"
   ]
  },
  {
   "cell_type": "code",
   "execution_count": 102,
   "metadata": {
    "tags": []
   },
   "outputs": [],
   "source": [
    "path = r\"C:\\Users\\einarb\\Norconsult AS\\AI og ML i Norconsult - Documents\\20 Casemapper\\05 Prediksjon av geotekniske grunnforhold\\20 - Data\\NADAG\\Gamle 1525 Ulvenvn (62297)\\AUTOGRAF.DBF\\602.tlk\"\n",
    "lines = Geotolkparser.convert_file_to_lines(path)\n",
    "file_dict = Geotolkparser.process_file_by_lines(lines, \"602.tlk\")\n",
    "df = Geotolkparser.dict_to_dataframes(file_dict)"
   ]
  },
  {
   "cell_type": "markdown",
   "metadata": {},
   "source": []
  },
  {
   "cell_type": "markdown",
   "metadata": {},
   "source": [
    "# Test process file by path"
   ]
  },
  {
   "cell_type": "code",
   "execution_count": 106,
   "metadata": {},
   "outputs": [],
   "source": [
    "path = r\"C:\\Users\\einarb\\Norconsult AS\\AI og ML i Norconsult - Documents\\20 Casemapper\\05 Prediksjon av geotekniske grunnforhold\\20 - Data\\NADAG\\Gamle 1525 Ulvenvn (62297)\\AUTOGRAF.DBF\\602.snd\"\n",
    "file_dict = Geotolkparser.process_file_by_path(path)\n",
    "df = Geotolkparser.dict_to_dataframes(file_dict)"
   ]
  },
  {
   "cell_type": "code",
   "execution_count": 107,
   "metadata": {},
   "outputs": [
    {
     "output_type": "execute_result",
     "data": {
      "text/plain": "      depth  pressure  sek10  spyletrykk  spyling  okt_rotasjon  slag merknad\n0     0.525       0.0   11.0       569.0      1.0           1.0   1.0     NaN\n1     0.550    7659.0   11.0       569.0      1.0           1.0   1.0     NaN\n2     0.575    7880.0   11.0       569.0      1.0           1.0   1.0     NaN\n3     0.600    8279.0   11.0       569.0      1.0           1.0   1.0     NaN\n4     0.625    7659.0    9.0       529.0      1.0           1.0   1.0     NaN\n..      ...       ...    ...         ...      ...           ...   ...     ...\n931  23.800    7320.0  125.0       600.0      1.0           1.0   1.0     NaN\n932  23.825    7239.0  141.0       200.0      1.0           1.0   1.0     NaN\n933  23.850    7380.0  140.0       200.0      1.0           1.0   1.0     NaN\n934  23.875    7119.0  140.0       200.0      1.0           1.0   1.0     NaN\n935  23.900    7719.0  140.0       200.0      1.0           1.0   1.0     NaN\n\n[936 rows x 8 columns]",
      "text/html": "<div>\n<style scoped>\n    .dataframe tbody tr th:only-of-type {\n        vertical-align: middle;\n    }\n\n    .dataframe tbody tr th {\n        vertical-align: top;\n    }\n\n    .dataframe thead th {\n        text-align: right;\n    }\n</style>\n<table border=\"1\" class=\"dataframe\">\n  <thead>\n    <tr style=\"text-align: right;\">\n      <th></th>\n      <th>depth</th>\n      <th>pressure</th>\n      <th>sek10</th>\n      <th>spyletrykk</th>\n      <th>spyling</th>\n      <th>okt_rotasjon</th>\n      <th>slag</th>\n      <th>merknad</th>\n    </tr>\n  </thead>\n  <tbody>\n    <tr>\n      <th>0</th>\n      <td>0.525</td>\n      <td>0.0</td>\n      <td>11.0</td>\n      <td>569.0</td>\n      <td>1.0</td>\n      <td>1.0</td>\n      <td>1.0</td>\n      <td>NaN</td>\n    </tr>\n    <tr>\n      <th>1</th>\n      <td>0.550</td>\n      <td>7659.0</td>\n      <td>11.0</td>\n      <td>569.0</td>\n      <td>1.0</td>\n      <td>1.0</td>\n      <td>1.0</td>\n      <td>NaN</td>\n    </tr>\n    <tr>\n      <th>2</th>\n      <td>0.575</td>\n      <td>7880.0</td>\n      <td>11.0</td>\n      <td>569.0</td>\n      <td>1.0</td>\n      <td>1.0</td>\n      <td>1.0</td>\n      <td>NaN</td>\n    </tr>\n    <tr>\n      <th>3</th>\n      <td>0.600</td>\n      <td>8279.0</td>\n      <td>11.0</td>\n      <td>569.0</td>\n      <td>1.0</td>\n      <td>1.0</td>\n      <td>1.0</td>\n      <td>NaN</td>\n    </tr>\n    <tr>\n      <th>4</th>\n      <td>0.625</td>\n      <td>7659.0</td>\n      <td>9.0</td>\n      <td>529.0</td>\n      <td>1.0</td>\n      <td>1.0</td>\n      <td>1.0</td>\n      <td>NaN</td>\n    </tr>\n    <tr>\n      <th>...</th>\n      <td>...</td>\n      <td>...</td>\n      <td>...</td>\n      <td>...</td>\n      <td>...</td>\n      <td>...</td>\n      <td>...</td>\n      <td>...</td>\n    </tr>\n    <tr>\n      <th>931</th>\n      <td>23.800</td>\n      <td>7320.0</td>\n      <td>125.0</td>\n      <td>600.0</td>\n      <td>1.0</td>\n      <td>1.0</td>\n      <td>1.0</td>\n      <td>NaN</td>\n    </tr>\n    <tr>\n      <th>932</th>\n      <td>23.825</td>\n      <td>7239.0</td>\n      <td>141.0</td>\n      <td>200.0</td>\n      <td>1.0</td>\n      <td>1.0</td>\n      <td>1.0</td>\n      <td>NaN</td>\n    </tr>\n    <tr>\n      <th>933</th>\n      <td>23.850</td>\n      <td>7380.0</td>\n      <td>140.0</td>\n      <td>200.0</td>\n      <td>1.0</td>\n      <td>1.0</td>\n      <td>1.0</td>\n      <td>NaN</td>\n    </tr>\n    <tr>\n      <th>934</th>\n      <td>23.875</td>\n      <td>7119.0</td>\n      <td>140.0</td>\n      <td>200.0</td>\n      <td>1.0</td>\n      <td>1.0</td>\n      <td>1.0</td>\n      <td>NaN</td>\n    </tr>\n    <tr>\n      <th>935</th>\n      <td>23.900</td>\n      <td>7719.0</td>\n      <td>140.0</td>\n      <td>200.0</td>\n      <td>1.0</td>\n      <td>1.0</td>\n      <td>1.0</td>\n      <td>NaN</td>\n    </tr>\n  </tbody>\n</table>\n<p>936 rows × 8 columns</p>\n</div>"
     },
     "metadata": {},
     "execution_count": 107
    }
   ],
   "source": [
    "df"
   ]
  },
  {
   "cell_type": "code",
   "execution_count": null,
   "metadata": {},
   "outputs": [],
   "source": []
  }
 ],
 "metadata": {
  "language_info": {
   "codemirror_mode": {
    "name": "ipython",
    "version": 3
   },
   "file_extension": ".py",
   "mimetype": "text/x-python",
   "name": "python",
   "nbconvert_exporter": "python",
   "pygments_lexer": "ipython3",
   "version": "3.8.5-final"
  },
  "orig_nbformat": 2,
  "kernelspec": {
   "name": "python38364bitfa407091945f4175ba0df737e55a28fa",
   "display_name": "Python 3.8.3 64-bit"
  }
 },
 "nbformat": 4,
 "nbformat_minor": 2
}