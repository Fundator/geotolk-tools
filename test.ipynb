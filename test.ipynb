{
 "cells": [
  {
   "cell_type": "code",
   "execution_count": 6,
   "metadata": {
    "tags": []
   },
   "outputs": [
    {
     "output_type": "stream",
     "name": "stdout",
     "text": "The autoreload extension is already loaded. To reload it, use:\n  %reload_ext autoreload\n"
    }
   ],
   "source": [
    "%load_ext autoreload\n",
    "%autoreload 2\n",
    "import Geotolkparser"
   ]
  },
  {
   "cell_type": "code",
   "execution_count": 2,
   "metadata": {
    "tags": []
   },
   "outputs": [
    {
     "output_type": "stream",
     "name": "stderr",
     "text": "Could not process file 337.SND: Data contains 9 data points which is less than the minimum amount of data points (10).\nCould not process file 89.SND: Data contains 8 data points which is less than the minimum amount of data points (10).\n"
    }
   ],
   "source": [
    "res = process_autograf_dbf(r\"C:\\Users\\einarb\\Norconsult AS\\AI og ML i Norconsult - Documents\\20 Casemapper\\05 Prediksjon av geotekniske grunnforhold\\20 - Data\\NADAG\\130696-04 Vannforsyning Huseby utfo (62527)\\AUTOGRAF.DBFb\", \"a\", \"a\")"
   ]
  },
  {
   "cell_type": "code",
   "execution_count": 25,
   "metadata": {},
   "outputs": [],
   "source": [
    "path = r\"C:\\Users\\einarb\\Norconsult AS\\AI og ML i Norconsult - Documents\\20 Casemapper\\05 Prediksjon av geotekniske grunnforhold\\20 - Data\\NADAG\\Gamle 1525 Ulvenvn (62297)\\AUTOGRAF.DBF\""
   ]
  },
  {
   "cell_type": "code",
   "execution_count": 8,
   "metadata": {},
   "outputs": [],
   "source": [
    "with open(path, \"r\") as f\n",
    "\n",
    ":\n",
    "    lines = f.readlines()"
   ]
  },
  {
   "cell_type": "code",
   "execution_count": 9,
   "metadata": {
    "tags": []
   },
   "outputs": [
    {
     "output_type": "execute_result",
     "data": {
      "text/plain": "{'type': 'snd',\n 'xyz': (6650718.753549, 265840.264319, 96.758),\n 'guid': '4c0be2e2-788e-4c46-a118-8895d6e3e3da',\n 'blocks': [{'type': 'tot',\n   'date': datetime.datetime(2002, 7, 3, 0, 0),\n   'guid': '616290be-876c-41cb-9c04-b385989640e4',\n   'data':       depth  pressure  sek10  spyletrykk  spyling  okt_rotasjon  slag merknad\n   0     0.525       0.0   11.0       569.0      1.0           1.0   1.0     NaN\n   1     0.550    7659.0   11.0       569.0      1.0           1.0   1.0     NaN\n   2     0.575    7880.0   11.0       569.0      1.0           1.0   1.0     NaN\n   3     0.600    8279.0   11.0       569.0      1.0           1.0   1.0     NaN\n   4     0.625    7659.0    9.0       529.0      1.0           1.0   1.0     NaN\n   ..      ...       ...    ...         ...      ...           ...   ...     ...\n   931  23.800    7320.0  125.0       600.0      1.0           1.0   1.0     NaN\n   932  23.825    7239.0  141.0       200.0      1.0           1.0   1.0     NaN\n   933  23.850    7380.0  140.0       200.0      1.0           1.0   1.0     NaN\n   934  23.875    7119.0  140.0       200.0      1.0           1.0   1.0     NaN\n   935  23.900    7719.0  140.0       200.0      1.0           1.0   1.0     NaN\n   \n   [936 rows x 8 columns]}],\n 'filename': '602.snd'}"
     },
     "metadata": {},
     "execution_count": 9
    }
   ],
   "source": [
    "process_single_file(lines, \"602.snd\")"
   ]
  },
  {
   "cell_type": "code",
   "execution_count": null,
   "metadata": {},
   "outputs": [],
   "source": [
    "\n"
   ]
  },
  {
   "cell_type": "code",
   "execution_count": 24,
   "metadata": {},
   "outputs": [
    {
     "output_type": "execute_result",
     "data": {
      "text/plain": "['C:',\n 'Users',\n 'einarb',\n 'Norconsult AS',\n 'AI og ML i Norconsult - Documents',\n '20 Casemapper',\n '05 Prediksjon av geotekniske grunnforhold',\n '20 - Data',\n 'NADAG',\n 'Gamle 1525 Ulvenvn (62297)',\n 'AUTOGRAF.DBF']"
     },
     "metadata": {},
     "execution_count": 24
    }
   ],
   "source": [
    "path.split(\"\\\\\")[:-1\n",
    "]"
   ]
  },
  {
   "cell_type": "code",
   "execution_count": 27,
   "metadata": {},
   "outputs": [
    {
     "output_type": "execute_result",
     "data": {
      "text/plain": "{'type': 'snd',\n 'xyz': (6650718.753549, 265840.264319, 96.758),\n 'guid': '4c0be2e2-788e-4c46-a118-8895d6e3e3da',\n 'blocks': [{'type': 'tot',\n   'date': datetime.datetime(2002, 7, 3, 0, 0),\n   'guid': '616290be-876c-41cb-9c04-b385989640e4',\n   'data':       depth  pressure  sek10  spyletrykk  spyling  okt_rotasjon  slag merknad\n   0     0.525       0.0   11.0       569.0      1.0           1.0   1.0     NaN\n   1     0.550    7659.0   11.0       569.0      1.0           1.0   1.0     NaN\n   2     0.575    7880.0   11.0       569.0      1.0           1.0   1.0     NaN\n   3     0.600    8279.0   11.0       569.0      1.0           1.0   1.0     NaN\n   4     0.625    7659.0    9.0       529.0      1.0           1.0   1.0     NaN\n   ..      ...       ...    ...         ...      ...           ...   ...     ...\n   931  23.800    7320.0  125.0       600.0      1.0           1.0   1.0     NaN\n   932  23.825    7239.0  141.0       200.0      1.0           1.0   1.0     NaN\n   933  23.850    7380.0  140.0       200.0      1.0           1.0   1.0     NaN\n   934  23.875    7119.0  140.0       200.0      1.0           1.0   1.0     NaN\n   935  23.900    7719.0  140.0       200.0      1.0           1.0   1.0     NaN\n   \n   [936 rows x 8 columns]}],\n 'filename': '602.snd'}"
     },
     "metadata": {},
     "execution_count": 27
    }
   ],
   "source": [
    "path = r\"C:\\Users\\einarb\\Norconsult AS\\AI og ML i Norconsult - Documents\\20 Casemapper\\05 Prediksjon av geotekniske grunnforhold\\20 - Data\\NADAG\\Gamle 1525 Ulvenvn (62297)\\AUTOGRAF.DBF\\602.snd\"\n",
    "Geotolkparser.process_file_by_path(path)\n"
   ]
  },
  {
   "cell_type": "code",
   "execution_count": 33,
   "metadata": {
    "tags": []
   },
   "outputs": [
    {
     "output_type": "stream",
     "name": "stderr",
     "text": "Could not process file 601.SND: Data contains 1 data points which is less than the minimum amount of data points (10).\nCould not process file 608.SND: Data contains 2 data points which is less than the minimum amount of data points (10).\n"
    },
    {
     "output_type": "execute_result",
     "data": {
      "text/plain": "bfd-4990-8c8d-02f5f54e2229'),\n   'data':   material  material_symbol  vurdering  klassifisering beskrivelse   kote  \\\n   0     berg                1          4               4        Berg  82.39   \n   \n      kommentar  \n   0        NaN  ,\n   'filename': '603.TLK'}],\n '//604': [{'type': 'snd',\n   'xyz': (6650695.608225, 265859.314713, 96.363),\n   'guid': '742baa52-1a83-4660-9222-567088833214',\n   'blocks': [{'type': 'tot',\n     'date': datetime.datetime(2002, 7, 3, 0, 0),\n     'guid': 'b3a794e1-0212-4b83-bd81-65be525f16b9',\n     'data':       depth  pressure  sek10  spyletrykk  spyling  okt_rotasjon  slag merknad\n     0     0.525   17760.0    9.0         0.0      0.0           1.0   0.0     NaN\n     1     0.550   24799.0   10.0         0.0      0.0           1.0   0.0     NaN\n     2     0.575   27440.0    9.0         0.0      0.0           1.0   0.0     NaN\n     3     0.600   26639.0   10.0         0.0      0.0           1.0   0.0     NaN\n     4     0.625   26639.0   11.0         0.0      0.0           1.0   1.0     NaN\n     ..      ...       ...    ...         ...      ...           ...   ...     ...\n     747  19.200    7760.0   76.0       589.0      1.0           1.0   1.0     NaN\n     748  19.225    8359.0  132.0       660.0      1.0           1.0   1.0     NaN\n     749  19.250    6260.0  132.0       660.0      1.0           1.0   1.0     NaN\n     750  19.275    6699.0  132.0       660.0      1.0           1.0   1.0     NaN\n     751  19.300    6219.0  132.0       660.0      1.0           1.0   1.0     NaN\n     \n     [752 rows x 8 columns]}],\n   'filename': '604.SND'},\n  {'type': 'tlk',\n   'xyz': [nan, nan, nan],\n   'guid': UUID('9eab1b29-4366-4590-9fdd-12f0a144ae0d'),\n   'data':   material  material_symbol  vurdering  klassifisering beskrivelse   kote  \\\n   0     berg                1          4               4        Berg  79.96   \n   \n      kommentar  \n   0        NaN  ,\n   'filename': '604.TLK'}],\n '//605': [{'type': 'snd',\n   'xyz': (6650684.593273, 265864.716196, 97.192),\n   'guid': 'c636b4f1-f6a5-4866-a2b6-26e022195278',\n   'blocks': [{'type': 'tot',\n     'date': datetime.datetime(2002, 7, 4, 0, 0),\n     'guid': '713300bc-a9ce-4831-9dfe-dca41e85d9f9',\n     'data':       depth  pressure  sek10  spyletrykk  spyling  okt_rotasjon  slag merknad\n     0     0.525     479.0    5.0         0.0      0.0           1.0   0.0     NaN\n     1     0.550    1100.0    5.0         0.0      0.0           1.0   0.0     NaN\n     2     0.575    4639.0    5.0         0.0      0.0           1.0   0.0     NaN\n     3     0.600    5960.0    5.0         0.0      0.0           1.0   0.0     NaN\n     4     0.625    5860.0    4.0         0.0      0.0           1.0   0.0     NaN\n     ..      ...       ...    ...         ...      ...           ...   ...     ...\n     723  18.600    8960.0  111.0      1240.0      1.0           1.0   1.0     NaN\n     724  18.625    9279.0  117.0      1190.0      1.0           1.0   1.0     NaN\n     725  18.650    8720.0  117.0      1190.0      1.0           1.0   1.0     NaN\n     726  18.675    8800.0  117.0      1190.0      1.0           1.0   1.0     NaN\n     727  18.700    9600.0  117.0      1190.0      1.0           1.0   1.0     NaN\n     \n     [728 rows x 8 columns]}],\n   'filename': '605.SND'},\n  {'type': 'tlk',\n   'xyz': [nan, nan, nan],\n   'guid': UUID('ec40612c-eb7e-4986-9997-5fb3d933037a'),\n   'data':   material  material_symbol  vurdering  klassifisering beskrivelse   kote  \\\n   0     berg                1          5               5        Berg  81.49   \n   \n      kommentar  \n   0        NaN  ,\n   'filename': '605.TLK'}],\n '//606': [{'type': 'snd',\n   'xyz': (6650698.262906, 265842.456512, 97.93),\n   'guid': '8c875b2f-897a-465c-afa7-afb3a32fe112',\n   'blocks': [{'type': 'tot',\n     'date': datetime.datetime(2002, 7, 2, 0, 0),\n     'guid': '5573e096-33d1-4b03-9647-db38d7ec51e1',\n     'data':       depth  pressure  sek10  spyletrykk  spyling  okt_rotasjon  slag merknad\n     0     0.525   19920.0    7.0         0.0      0.0           1.0   0.0     NaN\n     1     0.550   26079.0    7.0         0.0      0.0           1.0   0.0     NaN\n     2     0.575   25760.0    7.0         0.0      0.0           1.0   0.0     NaN\n     3     0.600   12000.0    7.0         0.0      0.0           1.0   0.0     NaN\n     4     0.625   16360.0    6.0         0.0      0.0           1.0   0.0     NaN\n     ..      ...       ...    ...         ...      ...           ...   ...     ...\n     691  17.800    9000.0  114.0       550.0      1.0           1.0   1.0     NaN\n     692  17.825    8760.0  109.0       579.0      1.0           1.0   1.0     NaN\n     693  17.850    8960.0  108.0       579.0      1.0           1.0   1.0     NaN\n     694  17.875    8840.0  108.0       579.0      1.0           1.0   1.0     NaN\n     695  17.900    8760.0  108.0       579.0      1.0           1.0   1.0     NaN\n     \n     [696 rows x 8 columns]}],\n   'filename': '606.SND'},\n  {'type': 'tlk',\n   'xyz': [nan, nan, nan],\n   'guid': UUID('62ebc1fe-1203-4d20-be92-0d00b5d729bd'),\n   'data':   material  material_symbol  vurdering  klassifisering beskrivelse   kote  \\\n   0     berg                1          4               4        Berg  82.83   \n   \n      kommentar  \n   0        NaN  ,\n   'filename': '606.TLK'}],\n '//607': [{'type': 'snd',\n   'xyz': (6650668.125918, 265871.820262, 97.223),\n   'guid': '73467279-4626-48dc-a1c3-07478f7c2ab4',\n   'blocks': [{'type': 'tot',\n     'date': datetime.datetime(2002, 7, 4, 0, 0),\n     'guid': 'e1147191-fe31-41aa-9734-22379f70d295',\n     'data':       depth  pressure  sek10  spyletrykk  spyling  okt_rotasjon  slag merknad\n     0     0.525    8199.0   10.0        19.0      0.0           0.0   0.0     NaN\n     1     0.550    6440.0   10.0        19.0      0.0           0.0   0.0     NaN\n     2     0.575    5920.0   10.0        19.0      0.0           0.0   0.0     NaN\n     3     0.600    5619.0   10.0        19.0      0.0           0.0   0.0     NaN\n     4     0.625    4960.0    9.0        19.0      0.0           0.0   0.0     NaN\n     ..      ...       ...    ...         ...      ...           ...   ...     ...\n     803  20.600    4840.0  131.0      1009.0      1.0           1.0   1.0     NaN\n     804  20.625    6099.0  128.0      1029.0      1.0           1.0   1.0     NaN\n     805  20.650    7179.0  128.0      1029.0      1.0           1.0   1.0     NaN\n     806  20.675    7460.0  128.0      1029.0      1.0           1.0   1.0     NaN\n     807  20.700    8000.0  129.0      1029.0      1.0           1.0   1.0     NaN\n     \n     [808 rows x 8 columns]}],\n   'filename': '607.SND'},\n  {'type': 'tlk',\n   'xyz': [nan, nan, nan],\n   'guid': UUID('a10d7cf2-4dce-4f59-8b25-b026b16bc28b'),\n   'data':   material  material_symbol  vurdering  klassifisering beskrivelse   kote  \\\n   0     berg                1          4               4        Berg  79.32   \n   \n      kommentar  \n   0        NaN  ,\n   'filename': '607.TLK'}],\n '//608': [{'type': 'tlk',\n   'xyz': [nan, nan, nan],\n   'guid': UUID('c3cbd2ed-ff8e-4bbf-a83a-562ecd6cecd4'),\n   'data':   material  material_symbol  vurdering  klassifisering beskrivelse   kote  \\\n   0     berg                1          4               4        Berg  62.95   \n   \n      kommentar  \n   0        NaN  ,\n   'filename': '608.TLK'}],\n '//609': [{'type': 'snd',\n   'xyz': (6650735.493818, 265812.209515, 96.635),\n   'guid': '15428b31-89b1-478b-8574-7cdfdbc060df',\n   'blocks': [{'type': 'tot',\n     'date': datetime.datetime(2002, 7, 4, 0, 0),\n     'guid': '9fb08f13-a356-4a10-8306-4417c361e38f',\n     'data':        depth  pressure  sek10  spyletrykk  spyling  okt_rotasjon  slag merknad\n     0      0.525    4860.0   19.0         0.0      0.0           1.0   0.0     NaN\n     1      0.550   18719.0   19.0         0.0      0.0           1.0   0.0     NaN\n     2      0.575   24239.0   19.0         0.0      0.0           1.0   0.0     NaN\n     3      0.600   24239.0   19.0         0.0      0.0           1.0   1.0     NaN\n     4      0.625    6760.0   11.0         0.0      0.0           1.0   1.0     NaN\n     ...      ...       ...    ...         ...      ...           ...   ...     ...\n     1174  29.875    5920.0   34.0       540.0      1.0           1.0   1.0     NaN\n     1175  29.900    1440.0   34.0       540.0      1.0           1.0   1.0     NaN\n     1176  29.925    1600.0    0.0         0.0      0.0           0.0   1.0     NaN\n     1177  29.950    3240.0    0.0         0.0      0.0           0.0   1.0     NaN\n     1178  29.975    4460.0    0.0         0.0      0.0           0.0   1.0     NaN\n     \n     [1179 rows x 8 columns]}],\n   'filename': '609.SND'},\n  {'type': 'tlk',\n   'xyz': [nan, nan, nan],\n   'guid': UUID('dd879851-931e-4891-bd2e-e99429def1db'),\n   'data':   material  material_symbol  vurdering  klassifisering beskrivelse   kote  \\\n   0     berg                1          4               4        Berg  68.14   \n   \n      kommentar  \n   0        NaN  ,\n   'filename': '609.TLK'}],\n '//610': [{'type': 'snd',\n   'xyz': (6650715.066399, 265830.162726, 97.388),\n   'guid': 'ba57c3a7-2c30-4f39-8f06-ce5c3afcc3a5',\n   'blocks': [{'type': 'tot',\n     'date': datetime.datetime(2002, 7, 2, 0, 0),\n     'guid': '6d1da562-02bc-4c74-9904-11a168b4b76b',\n     'data':       depth  pressure  sek10  spyletrykk  spyling  okt_rotasjon  slag merknad\n     0     0.525       0.0   16.0         0.0      0.0           1.0   1.0     NaN\n     1     0.550       0.0   16.0         0.0      0.0           1.0   0.0     NaN\n     2     0.575       0.0   16.0         0.0      0.0           1.0   1.0     NaN\n     3     0.600     819.0   16.0         0.0      0.0           1.0   1.0     NaN\n     4     0.625     730.0   14.0         0.0      0.0           1.0   1.0     NaN\n     ..      ...       ...    ...         ...      ...           ...   ...     ...\n     988  25.225   10520.0  149.0       649.0      1.0           1.0   1.0     NaN\n     989  25.250    4639.0  149.0       649.0      1.0           1.0   1.0     NaN\n     990  25.275    1659.0  149.0       649.0      1.0           1.0   1.0     NaN\n     991  25.300    1870.0  149.0       649.0      1.0           1.0   1.0     NaN\n     992  25.325    1559.0    0.0       660.0      1.0           1.0   1.0     NaN\n     \n     [993 rows x 8 columns]}],\n   'filename': '610.SND'},\n  {'type': 'tlk',\n   'xyz': [nan, nan, nan],\n   'guid': UUID('2ef7b95f-d91f-4a19-8fa6-e14a2880cc9f'),\n   'data':   material  material_symbol  vurdering  klassifisering beskrivelse   kote  \\\n   0     berg                1          4               4        Berg  74.19   \n   \n      kommentar  \n   0        NaN  ,\n   'filename': '610.TLK'}],\n '//611': [{'type': 'snd',\n   'xyz': (6650706.348871, 265836.163869, 97.306),\n   'guid': '0701a1d1-b890-44f5-908a-197553878ff1',\n   'blocks': [{'type': 'tot',\n     'date': datetime.datetime(2002, 7, 2, 0, 0),\n     'guid': '5888d4e2-8d05-4f5c-a687-e91371a37e14',\n     'data':       depth  pressure  sek10  spyletrykk  spyling  okt_rotasjon  slag merknad\n     0     0.525   11039.0    8.0        19.0      0.0           1.0   0.0     NaN\n     1     0.550   20719.0    8.0        19.0      0.0           1.0   0.0     NaN\n     2     0.575   20959.0    8.0        19.0      0.0           1.0   0.0     NaN\n     3     0.600   17239.0    8.0        19.0      0.0           1.0   0.0     NaN\n     4     0.625   11720.0    5.0        19.0      0.0           0.0   0.0     NaN\n     ..      ...       ...    ...         ...      ...           ...   ...     ...\n     771  19.800    6179.0  133.0       409.0      1.0           1.0   1.0     NaN\n     772  19.825    6159.0  128.0       360.0      1.0           1.0   1.0     NaN\n     773  19.850    6159.0  128.0       360.0      1.0           1.0   1.0     NaN\n     774  19.875    6219.0  128.0       360.0      1.0           1.0   1.0     NaN\n     775  19.900    6380.0  128.0       360.0      1.0           1.0   1.0     NaN\n     \n     [776 rows x 8 columns]}],\n   'filename': '611.SND'},\n  {'type': 'tlk',\n   'xyz': [nan, nan, nan],\n   'guid': UUID('446eacf0-16a9-4e5a-aca1-8393bf6fd133'),\n   'data':   material  material_symbol  vurdering  klassifisering beskrivelse   kote  \\\n   0     berg                1          4               4        Berg  80.21   \n   \n      kommentar  \n   0        NaN  ,\n   'filename': '611.TLK'}],\n '//612': [{'type': 'snd',\n   'xyz': (6650692.17395, 265843.005132, 97.342),\n   'guid': '8350deb5-1065-4773-bea6-a6a24ace9cfb',\n   'blocks': [{'type': 'tot',\n     'date': datetime.datetime(2002, 7, 2, 0, 0),\n     'guid': 'b0d744c8-159e-4968-819e-a8b8258a2a37',\n     'data':       depth  pressure  sek10  spyletrykk  spyling  okt_rotasjon  slag merknad\n     0     0.525    5960.0    9.0         0.0      0.0           0.0   0.0     NaN\n     1     0.550    6099.0    9.0         0.0      0.0           0.0   0.0     NaN\n     2     0.575    5519.0    9.0         0.0      0.0           0.0   0.0     NaN\n     3     0.600    5659.0    9.0         0.0      0.0           0.0   0.0     NaN\n     4     0.625    5760.0    6.0         0.0      0.0           0.0   0.0     NaN\n     ..      ...       ...    ...         ...      ...           ...   ...     ...\n     691  17.800    6219.0  271.0      2720.0      1.0           1.0   1.0     NaN\n     692  17.825    8840.0  361.0      3400.0      1.0           1.0   1.0     NaN\n     693  17.850    7800.0  360.0      3400.0      1.0           1.0   1.0     NaN\n     694  17.875   14399.0  360.0      3400.0      1.0           1.0   1.0     NaN\n     695  17.900   17200.0  360.0      3400.0      1.0           1.0   1.0     NaN\n     \n     [696 rows x 8 columns]}],\n   'filename': '612.SND'},\n  {'type': 'tlk',\n   'xyz': [nan, nan, nan],\n   'guid': UUID('22ba3e7f-a5e4-4739-aba0-266597d5de6d'),\n   'data':   material  material_symbol  vurdering  klassifisering beskrivelse   kote  \\\n   0     berg                1          4               4        Berg  81.74   \n   \n      kommentar  \n   0        NaN  ,\n   'filename': '612.TLK'}],\n '//613': [{'type': 'snd',\n   'xyz': (6650675.399189, 265842.460816, 97.4),\n   'guid': 'df1539b4-9f1a-4a3f-b75c-0a0814e5aac3',\n   'blocks': [{'type': 'tot',\n     'date': datetime.datetime(2002, 7, 24, 0, 0),\n     'guid': '6e98712d-b0d4-4271-84f0-15823bcf94e0',\n     'data':       depth  pressure  sek10  spyletrykk  spyling  okt_rotasjon  slag  merknad\n     0     0.525   15359.0   10.0         0.0      0.0           0.0   0.0      NaN\n     1     0.550   18079.0   10.0         0.0      0.0           0.0   0.0      NaN\n     2     0.575   16799.0   10.0         0.0      0.0           0.0   0.0      NaN\n     3     0.600   12840.0   10.0         0.0      0.0           0.0   0.0      NaN\n     4     0.625    9640.0    6.0         0.0      0.0           0.0   0.0      NaN\n     ..      ...       ...    ...         ...      ...           ...   ...      ...\n     717  18.450   12800.0    6.0       239.0      1.0           1.0   0.0      NaN\n     718  18.475    8840.0    5.0       239.0      1.0           1.0   0.0      NaN\n     719  18.500   16079.0    5.0       239.0      1.0           1.0   0.0      NaN\n     720  18.525   16079.0    0.0       469.0      1.0           1.0   1.0      NaN\n     721  18.550   11439.0    0.0       469.0      1.0           1.0   1.0      NaN\n     \n     [722 rows x 8 columns]}],\n   'filename': '613.SND'}],\n '//614': [{'type': 'snd',\n   'xyz': (6650673.43012, 265854.451416, 97.18),\n   'guid': '42574abf-b8d6-4f6f-873b-e22f1a1ea33f',\n   'blocks': [{'type': 'tot',\n     'date': datetime.datetime(2002, 7, 24, 0, 0),\n     'guid': 'c7fb9bf8-d48a-43e9-809c-9e578d58c20e',\n     'data':       depth  pressure  sek10  spyletrykk  spyling  okt_rotasjon  slag merknad\n     0     0.525    2309.0   18.0         0.0      0.0           0.0   0.0     NaN\n     1     0.550    1500.0   18.0         0.0      0.0           0.0   0.0     NaN\n     2     0.575    1769.0   18.0         0.0      0.0           0.0   0.0     NaN\n     3     0.600    2720.0   18.0         0.0      0.0           0.0   0.0     NaN\n     4     0.625    3579.0    5.0         0.0      0.0           0.0   0.0     NaN\n     ..      ...       ...    ...         ...      ...           ...   ...     ...\n     815  20.900    6800.0   74.0       330.0      1.0           1.0   1.0     NaN\n     816  20.925    8880.0   94.0       270.0      1.0           1.0   1.0     NaN\n     817  20.950    8000.0   94.0       270.0      1.0           1.0   1.0     NaN\n     818  20.975    9159.0   94.0       270.0      1.0           1.0   1.0     NaN\n     819  21.000    9159.0   94.0       270.0      1.0           1.0   1.0     NaN\n     \n     [820 rows x 8 columns]}],\n   'filename': '614.SND'},\n  {'type': 'tlk',\n   'xyz': [nan, nan, nan],\n   'guid': UUID('ccb36e2f-d2ea-44ee-9483-f754e755e056'),\n   'data':   material  material_symbol  vurdering  klassifisering beskrivelse   kote  \\\n   0     berg                1          5               5        Berg  79.38   \n   \n      kommentar  \n   0        NaN  ,\n   'filename': '614.TLK'}],\n '//615': [{'type': 'snd',\n   'xyz': (6650654.631232, 265868.150194, 96.52),\n   'guid': 'ed20b8f3-5ec4-4fa4-a823-4ce76680acf6',\n   'blocks': [{'type': 'tot',\n     'date': datetime.datetime(2002, 7, 24, 0, 0),\n     'guid': '02219312-c7fb-4730-a714-37b15cf43275',\n     'data':        depth  pressure  sek10  spyletrykk  spyling  okt_rotasjon  slag merknad\n     0      0.525   14199.0    3.0         0.0      0.0           0.0   0.0     NaN\n     1      0.550   12640.0    3.0         0.0      0.0           0.0   0.0     NaN\n     2      0.575   14000.0    3.0         0.0      0.0           0.0   0.0     NaN\n     3      0.600   11960.0    3.0         0.0      0.0           0.0   0.0     NaN\n     4      0.625   11199.0    2.0         0.0      0.0           0.0   0.0     NaN\n     ...      ...       ...    ...         ...      ...           ...   ...     ...\n     1324  33.625   20639.0   38.0         9.0      0.0           0.0   0.0     NaN\n     1325  33.650   23680.0   38.0         9.0      0.0           0.0   0.0     NaN\n     1326  33.675   28239.0   38.0         9.0      0.0           0.0   0.0     NaN\n     1327  33.700   29920.0   38.0         9.0      0.0           0.0   0.0    [43]\n     1328  33.725   31840.0    0.0         0.0      0.0           0.0   0.0     NaN\n     \n     [1329 rows x 8 columns]}],\n   'filename': '615.SND'},\n  {'type': 'tlk',\n   'xyz': [nan, nan, nan],\n   'guid': UUID('98704165-e103-447a-92a1-00c576ee41a1'),\n   'data':   material  material_symbol  vurdering  klassifisering beskrivelse   kote  \\\n   0     berg                1          4               4        Berg  62.82   \n   \n      kommentar  \n   0        NaN  ,\n   'filename': '615.TLK'}],\n '//616': [{'type': 'snd',\n   'xyz': (6650747.433104, 265822.424297, 97.59),\n   'guid': 'ab63ccff-9ce5-437f-b3c3-31288cde11c6',\n   'blocks': [{'type': 'tot',\n     'date': datetime.datetime(2002, 7, 25, 0, 0),\n     'guid': '93dc1dd5-ecdd-4d5f-b0e5-ff7490839976',\n     'data':      depth  pressure  sek10  spyletrykk  spyling  okt_rotasjon  slag  merknad\n     0    0.525    9239.0    5.0         0.0      0.0           0.0   0.0      NaN\n     1    0.550   11760.0    5.0         0.0      0.0           0.0   0.0      NaN\n     2    0.575   14279.0    5.0         0.0      0.0           0.0   0.0      NaN\n     3    0.600   15119.0    5.0         0.0      0.0           0.0   0.0      NaN\n     4    0.625   17799.0    4.0         0.0      0.0           0.0   0.0      NaN\n     ..     ...       ...    ...         ...      ...           ...   ...      ...\n     367  9.700   11920.0    5.0         0.0      0.0           0.0   0.0      NaN\n     368  9.725   11600.0    4.0         0.0      0.0           0.0   0.0      NaN\n     369  9.750   11880.0    4.0         0.0      0.0           0.0   0.0      NaN\n     370  9.775   12000.0    4.0         0.0      0.0           0.0   0.0      NaN\n     371  9.800   12079.0    4.0         0.0      0.0           0.0   0.0      NaN\n     \n     [372 rows x 8 columns]}],\n   'filename': '616.SND'}]}"
     },
     "metadata": {},
     "execution_count": 33
    }
   ],
   "source": [
    "path = r\"C:\\Users\\einarb\\Norconsult AS\\AI og ML i Norconsult - Documents\\20 Casemapper\\05 Prediksjon av geotekniske grunnforhold\\20 - Data\\NADAG\\Gamle 1525 Ulvenvn (62297)\\AUTOGRAF.DBF\"\n",
    "Geotolkparser.process_multiple_by_path(path, \"\", \"\")"
   ]
  },
  {
   "cell_type": "code",
   "execution_count": 8,
   "metadata": {},
   "outputs": [],
   "source": [
    "path = r\"C:\\Users\\einarb\\Norconsult AS\\AI og ML i Norconsult - Documents\\20 Casemapper\\05 Prediksjon av geotekniske grunnforhold\\20 - Data\\NADAG\\Gamle 1525 Ulvenvn (62297)\\AUTOGRAF.DBF\\602.SND\"\n",
    "lines = \n",
    "Geotolkparser.convert_file_to_lines(path)"
   ]
  },
  {
   "cell_type": "code",
   "execution_count": 12,
   "metadata": {},
   "outputs": [
    {
     "output_type": "execute_result",
     "data": {
      "text/plain": "{'type': 'snd',\n 'xyz': (6650718.753549, 265840.264319, 96.758),\n 'guid': '4c0be2e2-788e-4c46-a118-8895d6e3e3da',\n 'blocks': [{'type': 'tot',\n   'date': datetime.datetime(2002, 7, 3, 0, 0),\n   'guid': '616290be-876c-41cb-9c04-b385989640e4',\n   'data':       depth  pressure  sek10  spyletrykk  spyling  okt_rotasjon  slag merknad\n   0     0.525       0.0   11.0       569.0      1.0           1.0   1.0     NaN\n   1     0.550    7659.0   11.0       569.0      1.0           1.0   1.0     NaN\n   2     0.575    7880.0   11.0       569.0      1.0           1.0   1.0     NaN\n   3     0.600    8279.0   11.0       569.0      1.0           1.0   1.0     NaN\n   4     0.625    7659.0    9.0       529.0      1.0           1.0   1.0     NaN\n   ..      ...       ...    ...         ...      ...           ...   ...     ...\n   931  23.800    7320.0  125.0       600.0      1.0           1.0   1.0     NaN\n   932  23.825    7239.0  141.0       200.0      1.0           1.0   1.0     NaN\n   933  23.850    7380.0  140.0       200.0      1.0           1.0   1.0     NaN\n   934  23.875    7119.0  140.0       200.0      1.0           1.0   1.0     NaN\n   935  23.900    7719.0  140.0       200.0      1.0           1.0   1.0     NaN\n   \n   [936 rows x 8 columns]}],\n 'filename': '602123.snd'}"
     },
     "metadata": {},
     "execution_count": 12
    }
   ],
   "source": [
    "Geotolkparser.process_file_by_lines(lines, \"602123.snd\")"
   ]
  },
  {
   "cell_type": "code",
   "execution_count": 19,
   "metadata": {},
   "outputs": [],
   "source": [
    "path = r\"C:\\Users\\einarb\\Norconsult AS\\AI og ML i Norconsult - Documents\\20 Casemapper\\05 Prediksjon av geotekniske grunnforhold\\20 - Data\\NADAG\\Gamle 1525 Ulvenvn (62297)\\AUTOGRAF.DBF\"\n",
    "lol = Geotolkparser.convert_multiple_to_lines(path)"
   ]
  },
  {
   "cell_type": "code",
   "execution_count": 21,
   "metadata": {
    "tags": []
   },
   "outputs": [
    {
     "output_type": "stream",
     "name": "stderr",
     "text": "Could not process file 601.SND: Data contains 1 data points which is less than the minimum amount of data points (10).\nCould not process file 608.SND: Data contains 2 data points which is less than the minimum amount of data points (10).\n"
    }
   ],
   "source": [
    "d = Geotolkparser.process_multiple_by_lines(lol, \"a\", \"b\")"
   ]
  },
  {
   "cell_type": "code",
   "execution_count": 23,
   "metadata": {},
   "outputs": [
    {
     "output_type": "execute_result",
     "data": {
      "text/plain": "dict_keys(['a/b/602', 'a/b/603', 'a/b/604', 'a/b/605', 'a/b/606', 'a/b/607', 'a/b/608', 'a/b/609', 'a/b/610', 'a/b/611', 'a/b/612', 'a/b/613', 'a/b/614', 'a/b/615', 'a/b/616'])"
     },
     "metadata": {},
     "execution_count": 23
    }
   ],
   "source": [
    "d.keys()"
   ]
  },
  {
   "cell_type": "code",
   "execution_count": 24,
   "metadata": {},
   "outputs": [
    {
     "output_type": "execute_result",
     "data": {
      "text/plain": "[{'type': 'snd',\n  'xyz': (6650718.753549, 265840.264319, 96.758),\n  'guid': '4c0be2e2-788e-4c46-a118-8895d6e3e3da',\n  'blocks': [{'type': 'tot',\n    'date': datetime.datetime(2002, 7, 3, 0, 0),\n    'guid': '616290be-876c-41cb-9c04-b385989640e4',\n    'data':       depth  pressure  sek10  spyletrykk  spyling  okt_rotasjon  slag merknad\n    0     0.525       0.0   11.0       569.0      1.0           1.0   1.0     NaN\n    1     0.550    7659.0   11.0       569.0      1.0           1.0   1.0     NaN\n    2     0.575    7880.0   11.0       569.0      1.0           1.0   1.0     NaN\n    3     0.600    8279.0   11.0       569.0      1.0           1.0   1.0     NaN\n    4     0.625    7659.0    9.0       529.0      1.0           1.0   1.0     NaN\n    ..      ...       ...    ...         ...      ...           ...   ...     ...\n    931  23.800    7320.0  125.0       600.0      1.0           1.0   1.0     NaN\n    932  23.825    7239.0  141.0       200.0      1.0           1.0   1.0     NaN\n    933  23.850    7380.0  140.0       200.0      1.0           1.0   1.0     NaN\n    934  23.875    7119.0  140.0       200.0      1.0           1.0   1.0     NaN\n    935  23.900    7719.0  140.0       200.0      1.0           1.0   1.0     NaN\n    \n    [936 rows x 8 columns]}],\n  'filename': '602.SND'},\n {'type': 'tlk',\n  'xyz': [nan, nan, nan],\n  'guid': UUID('b5f9e951-9c6f-4df8-a074-655341b33e61'),\n  'data':   material  material_symbol  vurdering  klassifisering beskrivelse   kote  \\\n  0     berg                1          4               4        Berg  75.76   \n  \n     kommentar  \n  0        NaN  ,\n  'filename': '602.TLK'}]"
     },
     "metadata": {},
     "execution_count": 24
    }
   ],
   "source": [
    "d[\"a/b/602\"]"
   ]
  },
  {
   "cell_type": "code",
   "execution_count": 26,
   "metadata": {},
   "outputs": [
    {
     "output_type": "execute_result",
     "data": {
      "text/plain": "{'data': ['6650733.897260\\n',\n  '265829.606968\\n',\n  '96.963000\\n',\n  '9999999.900000\\n',\n  '0.000000\\n',\n  '0.000000 0 90.000000\\n',\n  '*\\n',\n  '97\\n',\n  '40 0\\n',\n  '*\\n',\n  '99\\n',\n  'GUID cd87cbf5-9afe-4b70-bb43-7019c13130a7\\n',\n  '4afe5e02-1070-4de4-bdaf-af4d9a637f5f\\n',\n  'Gamle 1525 Ulvenvn\\n',\n  '601\\n',\n  '*\\n',\n  '25 09.08.2002\\n',\n  '0.000000 93 0 5 1 0  GUID 5a466923-1504-4b8e-bc05-9c450c82a522\\n',\n  ' 24.000     0     0     0    \\n',\n  '*\\n'],\n 'name': '601.SND'}"
     },
     "metadata": {},
     "execution_count": 26
    }
   ],
   "source": [
    "lol[0]"
   ]
  },
  {
   "cell_type": "code",
   "execution_count": null,
   "metadata": {},
   "outputs": [],
   "source": []
  }
 ],
 "metadata": {
  "language_info": {
   "codemirror_mode": {
    "name": "ipython",
    "version": 3
   },
   "file_extension": ".py",
   "mimetype": "text/x-python",
   "name": "python",
   "nbconvert_exporter": "python",
   "pygments_lexer": "ipython3",
   "version": "3.8.5-final"
  },
  "orig_nbformat": 2,
  "kernelspec": {
   "name": "python38364bitfa407091945f4175ba0df737e55a28fa",
   "display_name": "Python 3.8.3 64-bit"
  }
 },
 "nbformat": 4,
 "nbformat_minor": 2
}